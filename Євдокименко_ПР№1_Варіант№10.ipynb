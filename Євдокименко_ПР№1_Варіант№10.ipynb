{
  "cells": [
    {
      "cell_type": "markdown",
      "metadata": {
        "id": "view-in-github",
        "colab_type": "text"
      },
      "source": [
        "<a href=\"https://colab.research.google.com/github/AlexanderYevdokymenko/Machine-learning/blob/main/%D0%84%D0%B2%D0%B4%D0%BE%D0%BA%D0%B8%D0%BC%D0%B5%D0%BD%D0%BA%D0%BE_%D0%9F%D0%A0%E2%84%961_%D0%92%D0%B0%D1%80%D1%96%D0%B0%D0%BD%D1%82%E2%84%9610.ipynb\" target=\"_parent\"><img src=\"https://colab.research.google.com/assets/colab-badge.svg\" alt=\"Open In Colab\"/></a>"
      ]
    },
    {
      "cell_type": "code",
      "source": [
        "#Варіант №10\n",
        "\n",
        "import numpy as np\n",
        "numpy_version = np.__version__\n",
        "print(f\"NumPy version: {numpy_version}\")\n"
      ],
      "metadata": {
        "id": "DimhWtkyorhW",
        "outputId": "8a52b4ff-3c09-40ba-eefd-7dc7142af223",
        "colab": {
          "base_uri": "https://localhost:8080/"
        }
      },
      "execution_count": null,
      "outputs": [
        {
          "output_type": "stream",
          "name": "stdout",
          "text": [
            "NumPy version: 1.26.4\n"
          ]
        }
      ]
    },
    {
      "cell_type": "code",
      "source": [
        "#Завдання 1\n",
        "# Створіть одновимірний масив (Вектор) з перших 10 піднесених  до квадрату натуральних чисел та виведіть його значення\n",
        "\n",
        "vector = np.array([i**2 for i in range(1, 11)])\n",
        "vector\n"
      ],
      "metadata": {
        "id": "-pGAp5BwqsVk",
        "outputId": "8c595486-1bc9-4602-df33-177e479e51c0",
        "colab": {
          "base_uri": "https://localhost:8080/"
        }
      },
      "execution_count": null,
      "outputs": [
        {
          "output_type": "execute_result",
          "data": {
            "text/plain": [
              "array([  1,   4,   9,  16,  25,  36,  49,  64,  81, 100])"
            ]
          },
          "metadata": {},
          "execution_count": 3
        }
      ]
    },
    {
      "cell_type": "code",
      "source": [
        "#Завдання 2\n",
        "#Створіть двовимірний масив (матрицю) розміром 3x3, заповніть його значеннями квадратних коренів від кожного натурального числа, починаючи з 1, та виведіть його значення.\n",
        "\n",
        "\n",
        "natural_numbers = np.arange(1, 10)\n",
        "square_roots = np.sqrt(natural_numbers)\n",
        "matrix = square_roots.reshape(3, 3)\n",
        "print(matrix)\n"
      ],
      "metadata": {
        "colab": {
          "base_uri": "https://localhost:8080/"
        },
        "id": "i_fBpFsXt9HD",
        "outputId": "ec2393a6-c0c4-40c8-b5d7-b50b932e6a51"
      },
      "execution_count": null,
      "outputs": [
        {
          "output_type": "stream",
          "name": "stdout",
          "text": [
            "[[1.         1.41421356 1.73205081]\n",
            " [2.         2.23606798 2.44948974]\n",
            " [2.64575131 2.82842712 3.        ]]\n"
          ]
        }
      ]
    },
    {
      "cell_type": "code",
      "source": [
        "# Завдання 3\n",
        "#Створіть масив розміром 3x3, заповніть його випадковими цілими числами в діапазоні від 0 до 5 та виведіть його значення.\n",
        "\n",
        "\n",
        "random_matrix = np.random.randint(0, 6, size=(3, 3))\n",
        "print(random_matrix)\n"
      ],
      "metadata": {
        "colab": {
          "base_uri": "https://localhost:8080/"
        },
        "id": "PuZv03-axKDQ",
        "outputId": "436ef8aa-1d60-4889-ddca-ab9e99c2ced2"
      },
      "execution_count": null,
      "outputs": [
        {
          "output_type": "stream",
          "name": "stdout",
          "text": [
            "[[5 1 1]\n",
            " [2 5 3]\n",
            " [4 1 0]]\n"
          ]
        }
      ]
    },
    {
      "cell_type": "code",
      "source": [
        "#Завдання 4\n",
        "#Створіть масив розміром 5x5, заповніть його випадковими дійсними числами в діапазоні від 0 до 1 та обчисліть суму елементів, які менше середнього значення.\n",
        "\n",
        "mean_value = np.mean(matrix)\n",
        "sum_below_mean = np.sum(matrix[matrix < mean_value])\n",
        "print(\"Масив:\\n\", matrix)\n",
        "print(\"Середнє значення:\", mean_value)\n",
        "print(\"Сума елементів, менших за середнє значення:\", sum_below_mean)\n"
      ],
      "metadata": {
        "colab": {
          "base_uri": "https://localhost:8080/"
        },
        "id": "9-bFYAzHx45H",
        "outputId": "2fdcfca7-05a4-4bb4-93a6-28cf18c89b0d"
      },
      "execution_count": null,
      "outputs": [
        {
          "output_type": "stream",
          "name": "stdout",
          "text": [
            "Масив:\n",
            " [[0.39899979 0.45925672 0.57519486 0.30285185 0.38983148]\n",
            " [0.8606784  0.86707535 0.09770646 0.38074288 0.36205839]\n",
            " [0.64127202 0.03419375 0.02964057 0.05735376 0.16812693]\n",
            " [0.61776567 0.3506411  0.64313313 0.49336266 0.41911959]\n",
            " [0.93210886 0.53975191 0.40033474 0.9110835  0.2768517 ]]\n",
            "Середнє значення: 0.44836544300911735\n",
            "Сума елементів, менших за середнє значення: 3.668452992318522\n"
          ]
        }
      ]
    },
    {
      "cell_type": "code",
      "source": [
        "#Завдання 5\n",
        "#Створіть два одновимірних масиви розміром 5, заповніть їх випадковими цілими числами від 1 до 30 та виконайте на них поелементні операції додавання, віднімання та множення.\n",
        "\n",
        "array1 = np.random.randint(1, 31, size=5)\n",
        "array2 = np.random.randint(1, 31, size=5)\n",
        "addition = array1 + array2\n",
        "subtraction = array1 - array2\n",
        "multiplication = array1 * array2\n",
        "print(\"Масив 1:\", array1)\n",
        "print(\"Масив 2:\", array2)\n",
        "print(\"Додавання:\", addition)\n",
        "print(\"Віднімання:\", subtraction)\n",
        "print(\"Множення:\", multiplication)\n"
      ],
      "metadata": {
        "colab": {
          "base_uri": "https://localhost:8080/"
        },
        "id": "4uLXjqOjySsI",
        "outputId": "9f12a5f3-de36-4d19-c67c-816dcebf87c4"
      },
      "execution_count": null,
      "outputs": [
        {
          "output_type": "stream",
          "name": "stdout",
          "text": [
            "Масив 1: [24 11 19 15 28]\n",
            "Масив 2: [ 5 21 21  8  6]\n",
            "Додавання: [29 32 40 23 34]\n",
            "Віднімання: [ 19 -10  -2   7  22]\n",
            "Множення: [120 231 399 120 168]\n"
          ]
        }
      ]
    },
    {
      "cell_type": "code",
      "source": [
        "#Завдання 6\n",
        "#Створіть дві матриці 3x3, заповніть їх довільними дійсними числами від 0 до 1 та знайдіть їх добуток.\n",
        "\n",
        "matrix1 = np.random.random((3, 3))\n",
        "matrix2 = np.random.random((3, 3))\n",
        "product = np.dot(matrix1, matrix2)\n",
        "print(\"Матриця 1:\\n\", matrix1)\n",
        "print(\"Матриця 2:\\n\", matrix2)\n",
        "print(\"Добуток матриць:\\n\", product)\n"
      ],
      "metadata": {
        "colab": {
          "base_uri": "https://localhost:8080/"
        },
        "id": "tbWdomfby--r",
        "outputId": "ff206368-4fc4-444d-92a4-92c3b63f7ca7"
      },
      "execution_count": null,
      "outputs": [
        {
          "output_type": "stream",
          "name": "stdout",
          "text": [
            "Матриця 1:\n",
            " [[0.21454163 0.42025348 0.85821268]\n",
            " [0.76138141 0.11636611 0.49801342]\n",
            " [0.15859781 0.45207568 0.23728879]]\n",
            "Матриця 2:\n",
            " [[0.14308347 0.14376373 0.35094653]\n",
            " [0.72131929 0.37773684 0.24999007]\n",
            " [0.33027389 0.87968578 0.92009271]]\n",
            "Добуток матриць:\n",
            " [[0.61727954 0.94454602 0.96998707]\n",
            " [0.35735905 0.59151013 0.75451305]\n",
            " [0.42715393 0.40230583 0.38700147]]\n"
          ]
        }
      ]
    },
    {
      "cell_type": "code",
      "source": [
        "#Завдання 7\n",
        "#Створіть дві матриці розміром 2x3 та 3x2, заповніть їх випадковими цілими числами в діапазоні від 1 до 5 та перемножте їх між собою.\n",
        "\n",
        "matrix1 = np.random.randint(1, 6, size=(2, 3))\n",
        "matrix2 = np.random.randint(1, 6, size=(3, 2))\n",
        "product = np.dot(matrix1, matrix2)\n",
        "print(\"Матриця 1 (2x3):\\n\", matrix1)\n",
        "print(\"Матриця 2 (3x2):\\n\", matrix2)\n",
        "print(\"Добуток матриць:\\n\", product)\n"
      ],
      "metadata": {
        "colab": {
          "base_uri": "https://localhost:8080/"
        },
        "id": "QPGmPXerzZ4f",
        "outputId": "f2a9817e-ba46-469d-96e5-eaa63a4ff0a4"
      },
      "execution_count": null,
      "outputs": [
        {
          "output_type": "stream",
          "name": "stdout",
          "text": [
            "Матриця 1 (2x3):\n",
            " [[2 1 1]\n",
            " [5 2 4]]\n",
            "Матриця 2 (3x2):\n",
            " [[1 2]\n",
            " [1 1]\n",
            " [1 5]]\n",
            "Добуток матриць:\n",
            " [[ 4 10]\n",
            " [11 32]]\n"
          ]
        }
      ]
    },
    {
      "cell_type": "code",
      "source": [
        "#Завдання 8\n",
        "#Створіть матрицю розміром 3x3, заповніть її випадковими цілими числами в діапазоні від 1 до 10 та знайдіть її обернену матрицю.\n",
        "\n",
        "matrix = np.random.randint(1, 11, size=(3, 3))\n",
        "print(\"Матриця:\")\n",
        "print(matrix)\n",
        "if np.linalg.det(matrix) == 0:\n",
        "    print(\"Матриця є сингулярною і не має оберненої матриці.\")\n",
        "else:\n",
        "\n",
        "    inverse_matrix = np.linalg.inv(matrix)\n",
        "    print(\"Обернена матриця:\")\n",
        "    print(inverse_matrix)\n"
      ],
      "metadata": {
        "colab": {
          "base_uri": "https://localhost:8080/"
        },
        "id": "rbwigp6OzqAR",
        "outputId": "e49130a7-4ba9-42d9-8552-668158e845bc"
      },
      "execution_count": null,
      "outputs": [
        {
          "output_type": "stream",
          "name": "stdout",
          "text": [
            "Матриця:\n",
            "[[3 1 4]\n",
            " [4 3 5]\n",
            " [3 6 1]]\n",
            "Обернена матриця:\n",
            "[[ 2.7 -2.3  0.7]\n",
            " [-1.1  0.9 -0.1]\n",
            " [-1.5  1.5 -0.5]]\n"
          ]
        }
      ]
    },
    {
      "cell_type": "code",
      "source": [
        "#Завдання 9\n",
        "#Створіть матрицю розміром 5x5, заповніть її випадковими дійсними числами в діапазоні від 0 до 1 та транспонуйте її.\n",
        "\n",
        "matrix = np.random.rand(5, 5)\n",
        "print(\"Оригінальна матриця:\")\n",
        "print(matrix)\n",
        "transposed_matrix = np.transpose(matrix)\n",
        "print(\"Транспонована матриця:\")\n",
        "print(transposed_matrix)\n",
        "\n"
      ],
      "metadata": {
        "colab": {
          "base_uri": "https://localhost:8080/"
        },
        "id": "t0zm8vz_0EpO",
        "outputId": "5222d128-a2ba-48a3-9ef0-e0d6e606abfd"
      },
      "execution_count": null,
      "outputs": [
        {
          "output_type": "stream",
          "name": "stdout",
          "text": [
            "Оригінальна матриця:\n",
            "[[0.6178188  0.1195418  0.61735275 0.90099319 0.75775585]\n",
            " [0.33719367 0.22187355 0.97599667 0.37939732 0.29153843]\n",
            " [0.23610904 0.02263152 0.71508804 0.73806431 0.03597742]\n",
            " [0.77591755 0.58312391 0.73210012 0.74590968 0.05494716]\n",
            " [0.45009417 0.38598779 0.83193352 0.13883558 0.27223814]]\n",
            "Транспонована матриця:\n",
            "[[0.6178188  0.33719367 0.23610904 0.77591755 0.45009417]\n",
            " [0.1195418  0.22187355 0.02263152 0.58312391 0.38598779]\n",
            " [0.61735275 0.97599667 0.71508804 0.73210012 0.83193352]\n",
            " [0.90099319 0.37939732 0.73806431 0.74590968 0.13883558]\n",
            " [0.75775585 0.29153843 0.03597742 0.05494716 0.27223814]]\n"
          ]
        }
      ]
    },
    {
      "cell_type": "code",
      "source": [
        "#Завдання 10\n",
        "#Створіть матрицю розміром 3x4 та вектор розміром 4x1, заповніть матрицю випадковими цілими числами в діапазоні від -5 до 5, а вектор - випадковими дійсними числами від 0 до 1 і знайдіть добуток матриці на вектор\n",
        "\n",
        "matrix = np.random.randint(-5, 6, size=(3, 4))\n",
        "vector = np.random.rand(4, 1)\n",
        "print(\"Матриця 3x4:\")\n",
        "print(matrix)\n",
        "print(\"Вектор 4x1:\")\n",
        "print(vector)\n",
        "product = np.dot(matrix, vector)\n",
        "print(\"Добуток матриці на вектор:\")\n",
        "print(product)\n",
        "\n"
      ],
      "metadata": {
        "colab": {
          "base_uri": "https://localhost:8080/"
        },
        "id": "BReD1fnQ0NFU",
        "outputId": "bd20c142-2e10-4613-e236-ef525597aeb6"
      },
      "execution_count": null,
      "outputs": [
        {
          "output_type": "stream",
          "name": "stdout",
          "text": [
            "Матриця 3x4:\n",
            "[[ 4 -2  3 -4]\n",
            " [ 2  3 -4  4]\n",
            " [ 3 -4  3 -1]]\n",
            "Вектор 4x1:\n",
            "[[0.43607612]\n",
            " [0.62817444]\n",
            " [0.53124301]\n",
            " [0.74573588]]\n",
            "Добуток матриці на вектор:\n",
            "[[-0.90125886]\n",
            " [ 3.61464701]\n",
            " [-0.35647622]]\n"
          ]
        }
      ]
    },
    {
      "cell_type": "code",
      "source": [
        "#Завдання 11\n",
        "#Створіть матрицю розміром 2x3 та вектор розміром 3x1, заповніть матрицю випадковими дійсними числами від 0 до 1, а вектор - випадковими дійсними числами від 0 до 1, і знайдіть добуток матриці на вектор.\n",
        "\n",
        "matrix = np.random.rand(2, 3)\n",
        "vector = np.random.rand(3, 1)\n",
        "print(\"Матриця 2x3:\")\n",
        "print(matrix)\n",
        "print(\"Вектор 3x1:\")\n",
        "print(vector)\n",
        "product = np.dot(matrix, vector)\n",
        "print(\"Добуток матриці на вектор:\")\n",
        "print(product)\n",
        "\n"
      ],
      "metadata": {
        "colab": {
          "base_uri": "https://localhost:8080/"
        },
        "id": "HXfHQkGp0qC1",
        "outputId": "a0d164a3-7e87-4e6e-e921-4f47fb514054"
      },
      "execution_count": null,
      "outputs": [
        {
          "output_type": "stream",
          "name": "stdout",
          "text": [
            "Матриця 2x3:\n",
            "[[0.73384568 0.21769374 0.76723821]\n",
            " [0.48280358 0.39645423 0.96263547]]\n",
            "Вектор 3x1:\n",
            "[[0.49442866]\n",
            " [0.69390864]\n",
            " [0.34098551]]\n",
            "Добуток матриці на вектор:\n",
            "[[0.77551101]\n",
            " [0.84205969]]\n"
          ]
        }
      ]
    },
    {
      "cell_type": "code",
      "source": [
        "#Завдання 12\n",
        "#Створіть дві матриці розміром 3x3, заповніть їх випадковими цілими числами в діапазоні від 1 до 10 та знайдіть суму всіх елементів обох матриць\n",
        "\n",
        "matrix1 = np.random.randint(1, 11, size=(3, 3))\n",
        "matrix2 = np.random.randint(1, 11, size=(3, 3))\n",
        "print(\"Перша матриця 3x3:\")\n",
        "print(matrix1)\n",
        "print(\"Друга матриця 3x3:\")\n",
        "print(matrix2)\n",
        "sum_matrix1 = np.sum(matrix1)\n",
        "sum_matrix2 = np.sum(matrix2)\n",
        "total_sum = sum_matrix1 + sum_matrix2\n",
        "print(\"Сума всіх елементів першої матриці:\", sum_matrix1)\n",
        "print(\"Сума всіх елементів другої матриці:\", sum_matrix2)\n",
        "print(\"Загальна сума всіх елементів обох матриць:\", total_sum)\n"
      ],
      "metadata": {
        "colab": {
          "base_uri": "https://localhost:8080/"
        },
        "id": "oxGY8Tp608pV",
        "outputId": "b34f44d1-3021-4fda-9f6f-2d357ffe26a3"
      },
      "execution_count": null,
      "outputs": [
        {
          "output_type": "stream",
          "name": "stdout",
          "text": [
            "Перша матриця 3x3:\n",
            "[[6 4 2]\n",
            " [4 5 4]\n",
            " [1 2 7]]\n",
            "Друга матриця 3x3:\n",
            "[[9 5 2]\n",
            " [2 8 9]\n",
            " [2 2 9]]\n",
            "Сума всіх елементів першої матриці: 35\n",
            "Сума всіх елементів другої матриці: 48\n",
            "Загальна сума всіх елементів обох матриць: 83\n"
          ]
        }
      ]
    },
    {
      "cell_type": "code",
      "source": [
        "#Висновок\n",
        "#Я навчився використовувати елементи лінійної алгебри використовуючи colab google"
      ],
      "metadata": {
        "id": "lKgEhgHQ38oD"
      },
      "execution_count": 18,
      "outputs": []
    }
  ],
  "metadata": {
    "colab": {
      "provenance": [],
      "include_colab_link": true
    },
    "kernelspec": {
      "display_name": "Python 3",
      "name": "python3"
    }
  },
  "nbformat": 4,
  "nbformat_minor": 0
}