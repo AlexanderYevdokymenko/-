{
  "cells": [
    {
      "cell_type": "markdown",
      "metadata": {
        "id": "view-in-github",
        "colab_type": "text"
      },
      "source": [
        "<a href=\"https://colab.research.google.com/github/AlexanderYevdokymenko/Machine-learning/blob/main/%D0%84%D0%B2%D0%B4%D0%BE%D0%BA%D0%B8%D0%BC%D0%B5%D0%BD%D0%BA%D0%BE_%D0%9F%D0%A0%E2%84%964_%D0%92%D0%B0%D1%80%D1%96%D0%B0%D0%BD%D1%82%E2%84%9610.ipynb\" target=\"_parent\"><img src=\"https://colab.research.google.com/assets/colab-badge.svg\" alt=\"Open In Colab\"/></a>"
      ]
    },
    {
      "cell_type": "code",
      "source": [
        "#Завдання 1\n",
        "from sklearn.datasets import load_breast_cancer\n",
        "import numpy as np\n",
        "import pandas as pd\n",
        "\n"
      ],
      "metadata": {
        "id": "tZzuijhgDDdo"
      },
      "execution_count": null,
      "outputs": []
    },
    {
      "cell_type": "code",
      "source": [
        "# Завдання 1) Завантажуємо вбудований датасет load_breast_cancer з бібліотеки sklearn.datasets\n",
        "data = load_breast_cancer()\n",
        "\n",
        "# Перетворимо дані в DataFrame для зручності\n",
        "df = pd.DataFrame(data.data, columns=data.feature_names)\n",
        "\n",
        "# Додаємо цільову змінну до DataFrame\n",
        "df['target'] = data.target\n",
        "\n",
        "#1.1 Переглянемо перші кілька рядків\n",
        "print(\"Перші рядки датасету:\")\n",
        "print(df.head())\n",
        "\n",
        "#1.2 Перевіряємо назви стовпців та типи даних\n",
        "print(\"\\nНазви стовпців та типи даних:\")\n",
        "print(df.dtypes)\n",
        "\n",
        "#1.3 Перевіряємо наявність пропущених значень\n",
        "print(\"\\nЧи є пропущені значення?\")\n",
        "print(df.isnull().sum())\n",
        "\n",
        "#1.4 Розмір даних\n",
        "print(\"\\nРозмір даних:\")\n",
        "print(df.shape)"
      ],
      "metadata": {
        "colab": {
          "base_uri": "https://localhost:8080/"
        },
        "id": "ruzajIO6E6pz",
        "outputId": "a85657ec-4068-4d71-c502-49ad5cfb546b"
      },
      "execution_count": null,
      "outputs": [
        {
          "output_type": "stream",
          "name": "stdout",
          "text": [
            "Перші рядки датасету:\n",
            "   mean radius  mean texture  mean perimeter  mean area  mean smoothness  \\\n",
            "0        17.99         10.38          122.80     1001.0          0.11840   \n",
            "1        20.57         17.77          132.90     1326.0          0.08474   \n",
            "2        19.69         21.25          130.00     1203.0          0.10960   \n",
            "3        11.42         20.38           77.58      386.1          0.14250   \n",
            "4        20.29         14.34          135.10     1297.0          0.10030   \n",
            "\n",
            "   mean compactness  mean concavity  mean concave points  mean symmetry  \\\n",
            "0           0.27760          0.3001              0.14710         0.2419   \n",
            "1           0.07864          0.0869              0.07017         0.1812   \n",
            "2           0.15990          0.1974              0.12790         0.2069   \n",
            "3           0.28390          0.2414              0.10520         0.2597   \n",
            "4           0.13280          0.1980              0.10430         0.1809   \n",
            "\n",
            "   mean fractal dimension  ...  worst texture  worst perimeter  worst area  \\\n",
            "0                 0.07871  ...          17.33           184.60      2019.0   \n",
            "1                 0.05667  ...          23.41           158.80      1956.0   \n",
            "2                 0.05999  ...          25.53           152.50      1709.0   \n",
            "3                 0.09744  ...          26.50            98.87       567.7   \n",
            "4                 0.05883  ...          16.67           152.20      1575.0   \n",
            "\n",
            "   worst smoothness  worst compactness  worst concavity  worst concave points  \\\n",
            "0            0.1622             0.6656           0.7119                0.2654   \n",
            "1            0.1238             0.1866           0.2416                0.1860   \n",
            "2            0.1444             0.4245           0.4504                0.2430   \n",
            "3            0.2098             0.8663           0.6869                0.2575   \n",
            "4            0.1374             0.2050           0.4000                0.1625   \n",
            "\n",
            "   worst symmetry  worst fractal dimension  target  \n",
            "0          0.4601                  0.11890       0  \n",
            "1          0.2750                  0.08902       0  \n",
            "2          0.3613                  0.08758       0  \n",
            "3          0.6638                  0.17300       0  \n",
            "4          0.2364                  0.07678       0  \n",
            "\n",
            "[5 rows x 31 columns]\n",
            "\n",
            "Назви стовпців та типи даних:\n",
            "mean radius                float64\n",
            "mean texture               float64\n",
            "mean perimeter             float64\n",
            "mean area                  float64\n",
            "mean smoothness            float64\n",
            "mean compactness           float64\n",
            "mean concavity             float64\n",
            "mean concave points        float64\n",
            "mean symmetry              float64\n",
            "mean fractal dimension     float64\n",
            "radius error               float64\n",
            "texture error              float64\n",
            "perimeter error            float64\n",
            "area error                 float64\n",
            "smoothness error           float64\n",
            "compactness error          float64\n",
            "concavity error            float64\n",
            "concave points error       float64\n",
            "symmetry error             float64\n",
            "fractal dimension error    float64\n",
            "worst radius               float64\n",
            "worst texture              float64\n",
            "worst perimeter            float64\n",
            "worst area                 float64\n",
            "worst smoothness           float64\n",
            "worst compactness          float64\n",
            "worst concavity            float64\n",
            "worst concave points       float64\n",
            "worst symmetry             float64\n",
            "worst fractal dimension    float64\n",
            "target                       int64\n",
            "dtype: object\n",
            "\n",
            "Чи є пропущені значення?\n",
            "mean radius                0\n",
            "mean texture               0\n",
            "mean perimeter             0\n",
            "mean area                  0\n",
            "mean smoothness            0\n",
            "mean compactness           0\n",
            "mean concavity             0\n",
            "mean concave points        0\n",
            "mean symmetry              0\n",
            "mean fractal dimension     0\n",
            "radius error               0\n",
            "texture error              0\n",
            "perimeter error            0\n",
            "area error                 0\n",
            "smoothness error           0\n",
            "compactness error          0\n",
            "concavity error            0\n",
            "concave points error       0\n",
            "symmetry error             0\n",
            "fractal dimension error    0\n",
            "worst radius               0\n",
            "worst texture              0\n",
            "worst perimeter            0\n",
            "worst area                 0\n",
            "worst smoothness           0\n",
            "worst compactness          0\n",
            "worst concavity            0\n",
            "worst concave points       0\n",
            "worst symmetry             0\n",
            "worst fractal dimension    0\n",
            "target                     0\n",
            "dtype: int64\n",
            "\n",
            "Розмір даних:\n",
            "(569, 31)\n"
          ]
        }
      ]
    },
    {
      "cell_type": "code",
      "source": [
        "#2) Побудова і налаштування моделей:\n",
        "\n",
        "from sklearn.model_selection import train_test_split\n",
        "\n",
        "#2.1 Розділяємо дані на ознаки (X) і цільову змінну (y)\n",
        "X = df.drop('target', axis=1)\n",
        "y = df['target']\n",
        "\n",
        "#2.2 Розділення на навчальний і тестовий набори (80% для навчання, 20% для тестування)\n",
        "X_train, X_test, y_train, y_test = train_test_split(X, y, test_size=0.2, random_state=42)"
      ],
      "metadata": {
        "id": "wgKx5okoFLDe"
      },
      "execution_count": null,
      "outputs": []
    },
    {
      "cell_type": "code",
      "source": [
        "from sklearn.linear_model import LogisticRegression\n",
        "from sklearn.model_selection import GridSearchCV\n",
        "from sklearn.preprocessing import StandardScaler\n",
        "from sklearn.pipeline import Pipeline\n",
        "\n",
        "# Створюємо пайплайн для масштабування даних та моделювання\n",
        "pipeline = Pipeline([\n",
        "    ('scaler', StandardScaler()),\n",
        "    ('logreg', LogisticRegression(max_iter=1000))\n",
        "])\n",
        "\n",
        "# Визначаємо сітку параметрів для GridSearchCV\n",
        "param_grid_lr = {\n",
        "    'logreg__C': [0.1, 1, 10, 100],\n",
        "    'logreg__solver': ['lbfgs', 'liblinear']\n",
        "}\n",
        "\n",
        "# Налаштовуємо GridSearchCV з пайплайном\n",
        "grid_lr = GridSearchCV(pipeline, param_grid_lr, cv=5)\n",
        "grid_lr.fit(X_train, y_train)\n",
        "\n",
        "print(\"Найкращі параметри для логістичної регресії:\", grid_lr.best_params_)"
      ],
      "metadata": {
        "colab": {
          "base_uri": "https://localhost:8080/"
        },
        "id": "Bdnwo48IFoKT",
        "outputId": "dfe8111a-8e6a-4542-81f0-4616e99723da"
      },
      "execution_count": null,
      "outputs": [
        {
          "output_type": "stream",
          "name": "stdout",
          "text": [
            "Найкращі параметри для логістичної регресії: {'logreg__C': 0.1, 'logreg__solver': 'liblinear'}\n"
          ]
        }
      ]
    },
    {
      "cell_type": "code",
      "source": [
        "from sklearn.tree import DecisionTreeClassifier\n",
        "\n",
        "# Створюємо модель дерева рішень\n",
        "tree_clf = DecisionTreeClassifier()\n",
        "\n",
        "# Підбір параметрів для дерева рішень\n",
        "param_grid_tree = {'max_depth': [3, 5, 7, 10], 'min_samples_split': [2, 5, 10]}\n",
        "grid_tree_clf = GridSearchCV(tree_clf, param_grid_tree, cv=5)\n",
        "grid_tree_clf.fit(X_train, y_train)\n",
        "\n",
        "# Найкращі параметри\n",
        "print(\"\\nНайкращі параметри для дерева рішень:\", grid_tree_clf.best_params_)\n"
      ],
      "metadata": {
        "colab": {
          "base_uri": "https://localhost:8080/"
        },
        "id": "THfYnx7QFrql",
        "outputId": "bfd752c6-0c35-440c-953f-45259bdc11d2"
      },
      "execution_count": null,
      "outputs": [
        {
          "output_type": "stream",
          "name": "stdout",
          "text": [
            "\n",
            "Найкращі параметри для дерева рішень: {'max_depth': 5, 'min_samples_split': 10}\n"
          ]
        }
      ]
    },
    {
      "cell_type": "code",
      "source": [
        "from sklearn.ensemble import RandomForestClassifier\n",
        "\n",
        "# Створюємо модель випадкового лісу\n",
        "rf_clf = RandomForestClassifier()\n",
        "\n",
        "# Підбір параметрів для випадкового лісу\n",
        "param_grid_rf = {'n_estimators': [50, 100, 200], 'max_depth': [3, 5, 7, 10]}\n",
        "grid_rf_clf = GridSearchCV(rf_clf, param_grid_rf, cv=5)\n",
        "grid_rf_clf.fit(X_train, y_train)\n",
        "\n",
        "# Найкращі параметри\n",
        "print(\"\\nНайкращі параметри для випадкового лісу:\", grid_rf_clf.best_params_)\n"
      ],
      "metadata": {
        "colab": {
          "base_uri": "https://localhost:8080/"
        },
        "id": "Um1RejgbF1hi",
        "outputId": "726d78ef-68ae-415f-e262-22c6f867ec00"
      },
      "execution_count": null,
      "outputs": [
        {
          "output_type": "stream",
          "name": "stdout",
          "text": [
            "\n",
            "Найкращі параметри для випадкового лісу: {'max_depth': 7, 'n_estimators': 50}\n"
          ]
        }
      ]
    },
    {
      "cell_type": "code",
      "source": [
        "from sklearn.metrics import accuracy_score, confusion_matrix, classification_report\n",
        "\n",
        "#1 Логістична регресія\n",
        "log_reg_best = grid_log_reg.best_estimator_\n",
        "y_pred_log_reg = log_reg_best.predict(X_test)\n",
        "print(\"\\nТочність логістичної регресії:\", accuracy_score(y_test, y_pred_log_reg))\n",
        "print(confusion_matrix(y_test, y_pred_log_reg))\n",
        "print(classification_report(y_test, y_pred_log_reg))\n",
        "\n",
        "#2 Дерево рішень\n",
        "tree_best = grid_tree_clf.best_estimator_\n",
        "y_pred_tree = tree_best.predict(X_test)\n",
        "print(\"\\nТочність дерева рішень:\", accuracy_score(y_test, y_pred_tree))\n",
        "print(confusion_matrix(y_test, y_pred_tree))\n",
        "print(classification_report(y_test, y_pred_tree))\n",
        "\n",
        "#3 Випадковий ліс\n",
        "rf_best = grid_rf_clf.best_estimator_\n",
        "y_pred_rf = rf_best.predict(X_test)\n",
        "print(\"\\nТочність випадкового лісу:\", accuracy_score(y_test, y_pred_rf))\n",
        "print(confusion_matrix(y_test, y_pred_rf))\n",
        "print(classification_report(y_test, y_pred_rf))\n"
      ],
      "metadata": {
        "colab": {
          "base_uri": "https://localhost:8080/"
        },
        "id": "qHrvSz-1F8w0",
        "outputId": "6f11936a-3b9c-47c6-fe1d-948bd58a145f"
      },
      "execution_count": null,
      "outputs": [
        {
          "output_type": "stream",
          "name": "stdout",
          "text": [
            "\n",
            "Точність логістичної регресії: 0.956140350877193\n",
            "[[39  4]\n",
            " [ 1 70]]\n",
            "              precision    recall  f1-score   support\n",
            "\n",
            "           0       0.97      0.91      0.94        43\n",
            "           1       0.95      0.99      0.97        71\n",
            "\n",
            "    accuracy                           0.96       114\n",
            "   macro avg       0.96      0.95      0.95       114\n",
            "weighted avg       0.96      0.96      0.96       114\n",
            "\n",
            "\n",
            "Точність дерева рішень: 0.9298245614035088\n",
            "[[39  4]\n",
            " [ 4 67]]\n",
            "              precision    recall  f1-score   support\n",
            "\n",
            "           0       0.91      0.91      0.91        43\n",
            "           1       0.94      0.94      0.94        71\n",
            "\n",
            "    accuracy                           0.93       114\n",
            "   macro avg       0.93      0.93      0.93       114\n",
            "weighted avg       0.93      0.93      0.93       114\n",
            "\n",
            "\n",
            "Точність випадкового лісу: 0.9649122807017544\n",
            "[[40  3]\n",
            " [ 1 70]]\n",
            "              precision    recall  f1-score   support\n",
            "\n",
            "           0       0.98      0.93      0.95        43\n",
            "           1       0.96      0.99      0.97        71\n",
            "\n",
            "    accuracy                           0.96       114\n",
            "   macro avg       0.97      0.96      0.96       114\n",
            "weighted avg       0.97      0.96      0.96       114\n",
            "\n"
          ]
        }
      ]
    },
    {
      "cell_type": "code",
      "source": [
        "#3) Вибираємо найкращу модель за точністю\n",
        "best_model = None\n",
        "if accuracy_score(y_test, y_pred_log_reg) > max(accuracy_score(y_test, y_pred_tree), accuracy_score(y_test, y_pred_rf)):\n",
        "    best_model = \"Логістична регресія\"\n",
        "elif accuracy_score(y_test, y_pred_tree) > accuracy_score(y_test, y_pred_rf):\n",
        "    best_model = \"Дерево рішень\"\n",
        "else:\n",
        "    best_model = \"Випадковий ліс\"\n",
        "\n",
        "print(f\"\\nНайкраща модель: {best_model}\")\n"
      ],
      "metadata": {
        "colab": {
          "base_uri": "https://localhost:8080/"
        },
        "id": "YatPyE9fGEsj",
        "outputId": "22eeb0ea-c6db-4e4f-ea17-a3e3065f57f9"
      },
      "execution_count": null,
      "outputs": [
        {
          "output_type": "stream",
          "name": "stdout",
          "text": [
            "\n",
            "Найкраща модель: Випадковий ліс\n"
          ]
        }
      ]
    },
    {
      "cell_type": "code",
      "source": [
        "#4) Робимо прогноз на основі найкращої моделі\n",
        "if best_model == \"Логістична регресія\":\n",
        "    y_pred_best = y_pred_log_reg\n",
        "elif best_model == \"Дерево рішень\":\n",
        "    y_pred_best = y_pred_tree\n",
        "else:\n",
        "    y_pred_best = y_pred_rf\n",
        "\n",
        "print(\"\\nПрогноз на тестовій вибірці:\")\n",
        "print(y_pred_best)\n"
      ],
      "metadata": {
        "colab": {
          "base_uri": "https://localhost:8080/"
        },
        "id": "rqqG9OV2GFsk",
        "outputId": "d5d27b40-554c-495a-c072-d7c70bd98d65"
      },
      "execution_count": null,
      "outputs": [
        {
          "output_type": "stream",
          "name": "stdout",
          "text": [
            "\n",
            "Прогноз на тестовій вибірці:\n",
            "[1 0 0 1 1 0 0 0 0 1 1 0 1 0 1 0 1 1 1 0 1 1 0 1 1 1 1 1 1 0 1 1 1 1 1 1 0\n",
            " 1 0 1 1 0 1 1 1 1 1 1 1 1 0 0 1 1 1 1 1 0 0 1 1 0 0 1 1 1 0 0 1 1 0 0 1 0\n",
            " 1 1 1 1 1 1 0 1 1 0 0 0 0 0 1 1 1 1 1 1 1 1 0 0 1 0 0 1 0 0 1 1 1 0 1 1 0\n",
            " 1 1 0]\n"
          ]
        }
      ]
    },
    {
      "cell_type": "code",
      "source": [
        "#2 Завдання\n",
        "\n",
        "import pandas as pd\n",
        "\n",
        "\n",
        "\n",
        "data = pd.read_csv('titanic.csv')\n"
      ],
      "metadata": {
        "id": "90bDHlCHH9YV"
      },
      "execution_count": null,
      "outputs": []
    }
  ],
  "metadata": {
    "colab": {
      "provenance": [],
      "include_colab_link": true
    },
    "kernelspec": {
      "display_name": "Python 3",
      "name": "python3"
    }
  },
  "nbformat": 4,
  "nbformat_minor": 0
}